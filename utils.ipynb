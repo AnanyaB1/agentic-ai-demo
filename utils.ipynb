{
 "cells": [
  {
   "cell_type": "markdown",
   "id": "6f648418",
   "metadata": {},
   "source": [
    "# Getting the schema of the required database"
   ]
  },
  {
   "cell_type": "code",
   "execution_count": 1,
   "id": "dea34776",
   "metadata": {},
   "outputs": [],
   "source": [
    "import duckdb\n",
    "DB_PATH = \"database/HDB_data.db\""
   ]
  },
  {
   "cell_type": "code",
   "execution_count": 4,
   "id": "af97307d",
   "metadata": {},
   "outputs": [
    {
     "data": {
      "text/plain": [
       "['rental_data_2021_to_2025', 'resale_data_2017_to_2025']"
      ]
     },
     "execution_count": 4,
     "metadata": {},
     "output_type": "execute_result"
    }
   ],
   "source": [
    "def list_tables():\n",
    "    conn = duckdb.connect(DB_PATH)\n",
    "    c = conn.cursor()\n",
    "    c.execute(\"\"\"\n",
    "        SELECT table_name\n",
    "        FROM information_schema.tables\n",
    "        WHERE table_schema = 'main'\n",
    "        ORDER BY table_name\n",
    "    \"\"\")\n",
    "    tables = [r[0] for r in c.fetchall()]\n",
    "    conn.close()\n",
    "    return tables\n",
    "\n",
    "list_tables()"
   ]
  },
  {
   "cell_type": "code",
   "execution_count": 5,
   "id": "c911a7ed",
   "metadata": {},
   "outputs": [
    {
     "data": {
      "text/plain": [
       "{'schema': [{'cid': 0, 'name': 'year', 'type': 'INTEGER'},\n",
       "  {'cid': 1, 'name': 'month_num', 'type': 'INTEGER'},\n",
       "  {'cid': 2, 'name': 'town', 'type': 'VARCHAR'},\n",
       "  {'cid': 3, 'name': 'flat_type', 'type': 'VARCHAR'},\n",
       "  {'cid': 4, 'name': 'block', 'type': 'VARCHAR'},\n",
       "  {'cid': 5, 'name': 'street_name', 'type': 'VARCHAR'},\n",
       "  {'cid': 6, 'name': 'storey_range', 'type': 'VARCHAR'},\n",
       "  {'cid': 7, 'name': 'floor_area_sqm', 'type': 'DOUBLE'},\n",
       "  {'cid': 8, 'name': 'flat_model', 'type': 'VARCHAR'},\n",
       "  {'cid': 9, 'name': 'lease_commence_date', 'type': 'INTEGER'},\n",
       "  {'cid': 10, 'name': 'remaining_lease', 'type': 'VARCHAR'},\n",
       "  {'cid': 11, 'name': 'resale_price', 'type': 'DOUBLE'}],\n",
       " 'categories': {'flat_type': ['1 ROOM',\n",
       "   '2 ROOM',\n",
       "   '3 ROOM',\n",
       "   '4 ROOM',\n",
       "   '5 ROOM',\n",
       "   'EXECUTIVE',\n",
       "   'MULTI-GENERATION'],\n",
       "  'town': ['ANG MO KIO',\n",
       "   'BEDOK',\n",
       "   'BISHAN',\n",
       "   'BUKIT BATOK',\n",
       "   'BUKIT MERAH',\n",
       "   'BUKIT PANJANG',\n",
       "   'BUKIT TIMAH',\n",
       "   'CENTRAL AREA',\n",
       "   'CHOA CHU KANG',\n",
       "   'CLEMENTI',\n",
       "   'GEYLANG',\n",
       "   'HOUGANG',\n",
       "   'JURONG EAST',\n",
       "   'JURONG WEST',\n",
       "   'KALLANG/WHAMPOA',\n",
       "   'MARINE PARADE',\n",
       "   'PASIR RIS',\n",
       "   'PUNGGOL',\n",
       "   'QUEENSTOWN',\n",
       "   'SEMBAWANG',\n",
       "   'SENGKANG',\n",
       "   'SERANGOON',\n",
       "   'TAMPINES',\n",
       "   'TOA PAYOH',\n",
       "   'WOODLANDS',\n",
       "   'YISHUN'],\n",
       "  'flat_model': ['2-room',\n",
       "   '3Gen',\n",
       "   'Adjoined flat',\n",
       "   'Apartment',\n",
       "   'DBSS',\n",
       "   'Improved',\n",
       "   'Improved-Maisonette',\n",
       "   'Maisonette',\n",
       "   'Model A',\n",
       "   'Model A-Maisonette',\n",
       "   'Model A2',\n",
       "   'Multi Generation',\n",
       "   'New Generation',\n",
       "   'Premium Apartment',\n",
       "   'Premium Apartment Loft',\n",
       "   'Premium Maisonette',\n",
       "   'Simplified',\n",
       "   'Standard',\n",
       "   'Terrace',\n",
       "   'Type S1',\n",
       "   'Type S2'],\n",
       "  'storey_range': ['01 TO 03',\n",
       "   '04 TO 06',\n",
       "   '07 TO 09',\n",
       "   '10 TO 12',\n",
       "   '13 TO 15',\n",
       "   '16 TO 18',\n",
       "   '19 TO 21',\n",
       "   '22 TO 24',\n",
       "   '25 TO 27',\n",
       "   '28 TO 30',\n",
       "   '31 TO 33',\n",
       "   '34 TO 36',\n",
       "   '37 TO 39',\n",
       "   '40 TO 42',\n",
       "   '43 TO 45',\n",
       "   '46 TO 48',\n",
       "   '49 TO 51']}}"
      ]
     },
     "execution_count": 5,
     "metadata": {},
     "output_type": "execute_result"
    }
   ],
   "source": [
    "def get_table_schema(table_name: str):\n",
    "    conn = duckdb.connect(DB_PATH)\n",
    "    c = conn.cursor()\n",
    "\n",
    "    # if table doesnt exist, return error\n",
    "    try:\n",
    "        c.execute(f\"SELECT * FROM {table_name} LIMIT 1;\")\n",
    "    except duckdb.OperationalError:\n",
    "        return {\"error\": f\"Table {table_name} does not exist. Call `list_tables` to see available tables.\"}\n",
    "\n",
    "    # Step 1: Basic schema\n",
    "    c.execute(f\"PRAGMA table_info({table_name});\")\n",
    "    schema = [{\"cid\": r[0], \"name\": r[1], \"type\": r[2]} for r in c.fetchall()]\n",
    "\n",
    "    # Step 2: Collect distinct values for key categorical columns\n",
    "    if table_name == \"resale_data_2017_to_2025\":\n",
    "      categorical_columns = [\"flat_type\", \"town\", \"flat_model\", \"storey_range\"]\n",
    "      categories = {}\n",
    "\n",
    "      for col in categorical_columns:\n",
    "          try:\n",
    "              c.execute(f\"SELECT DISTINCT {col} FROM {table_name} ORDER BY {col} ASC;\")\n",
    "              categories[col] = [r[0] for r in c.fetchall()]\n",
    "          except duckdb.OperationalError:\n",
    "              categories[col] = []\n",
    "\n",
    "    elif table_name == \"rental_data_2021_to_2025\":\n",
    "      categorical_columns = [\"town\", \"flat_type\"]\n",
    "      categories = {}\n",
    "\n",
    "      for col in categorical_columns:\n",
    "          try:\n",
    "              c.execute(f\"SELECT DISTINCT {col} FROM {table_name} ORDER BY {col} ASC;\")\n",
    "              categories[col] = [r[0] for r in c.fetchall()]\n",
    "          except duckdb.OperationalError:\n",
    "              categories[col] = []\n",
    "\n",
    "    conn.close()\n",
    "\n",
    "    return {\"schema\": schema, \"categories\": categories}\n",
    "\n",
    "get_table_schema(\"resale_data_2017_to_2025\")"
   ]
  }
 ],
 "metadata": {
  "kernelspec": {
   "display_name": ".venv",
   "language": "python",
   "name": "python3"
  },
  "language_info": {
   "codemirror_mode": {
    "name": "ipython",
    "version": 3
   },
   "file_extension": ".py",
   "mimetype": "text/x-python",
   "name": "python",
   "nbconvert_exporter": "python",
   "pygments_lexer": "ipython3",
   "version": "3.13.7"
  }
 },
 "nbformat": 4,
 "nbformat_minor": 5
}
